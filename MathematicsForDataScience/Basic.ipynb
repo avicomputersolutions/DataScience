{
 "cells": [
  {
   "cell_type": "code",
   "execution_count": 1,
   "metadata": {},
   "outputs": [
    {
     "name": "stdout",
     "output_type": "stream",
     "text": [
      "Hello Worlds\n"
     ]
    }
   ],
   "source": [
    "print(\"Hello Worlds\")"
   ]
  },
  {
   "cell_type": "code",
   "execution_count": 2,
   "metadata": {},
   "outputs": [
    {
     "name": "stdout",
     "output_type": "stream",
     "text": [
      "Requirement already satisfied: numpy in /home/codespace/.local/lib/python3.12/site-packages (2.2.0)\n",
      "Note: you may need to restart the kernel to use updated packages.\n"
     ]
    }
   ],
   "source": [
    "%pip install numpy"
   ]
  },
  {
   "cell_type": "code",
   "execution_count": 10,
   "metadata": {},
   "outputs": [
    {
     "name": "stdout",
     "output_type": "stream",
     "text": [
      "6.5\n",
      "-1.5\n"
     ]
    }
   ],
   "source": [
    "# 2x + 3y = 7\n",
    "# 4x + 7y = 9\n",
    "import numpy as np\n",
    "from numpy import linalg as LA\n",
    "A = [\n",
    "    [2,3],\n",
    "    [4,7]\n",
    "    ]\n",
    "B= [7,9]\n",
    "\n",
    "A_numpy= np.array(A)\n",
    "B_numpy = np.array(B)\n",
    "\n",
    "# X , Y  = B_numpy @  LA.inv(A_numpy)\n",
    "X , Y  = np.matmul(B_numpy,LA.inv(A_numpy))\n",
    "print(X)\n",
    "print(Y)\n",
    "\n",
    "\n",
    "\n",
    "\n"
   ]
  },
  {
   "cell_type": "code",
   "execution_count": 11,
   "metadata": {},
   "outputs": [
    {
     "name": "stdout",
     "output_type": "stream",
     "text": [
      "40\n"
     ]
    }
   ],
   "source": [
    "# vectors\n",
    "# 3i + 4j\n",
    "# 4i + 7j\n",
    "import numpy as np\n",
    "from numpy import linalg as la\n",
    "A = [3,4]\n",
    "B = [4,7]\n",
    "\n",
    "A_vector = np.array(A)\n",
    "B_vector = np.array(B)\n",
    "\n",
    "dot_productAB= np.dot(A_vector,B_vector)\n",
    "\n",
    "print(dot_productAB)"
   ]
  },
  {
   "cell_type": "code",
   "execution_count": 12,
   "metadata": {},
   "outputs": [
    {
     "name": "stdout",
     "output_type": "stream",
     "text": [
      "40\n"
     ]
    }
   ],
   "source": [
    "# vectors\n",
    "# 3i + 4j\n",
    "# 4i + 7j\n",
    "import numpy as np\n",
    "from numpy import linalg as la\n",
    "A = [3,4]\n",
    "B = [4,7]\n",
    "\n",
    "A_vector = np.array(A)\n",
    "B_vector = np.array(B)\n",
    "\n",
    "cross_productAB= np.vdot(A_vector,B_vector)\n",
    "\n",
    "print(dot_productAB)"
   ]
  },
  {
   "cell_type": "code",
   "execution_count": 13,
   "metadata": {},
   "outputs": [
    {
     "name": "stdout",
     "output_type": "stream",
     "text": [
      "40\n"
     ]
    }
   ],
   "source": [
    "# vectors\n",
    "# 3i + 4j\n",
    "# 4i + 7j\n",
    "import numpy as np\n",
    "from numpy import linalg as la\n",
    "A = [3,4]\n",
    "B = [4,7]\n",
    "\n",
    "A_vector = np.array(A)\n",
    "B_vector = np.array(B)\n",
    "\n",
    "cross_productAB= np.vecdot(A_vector,B_vector)\n",
    "\n",
    "print(dot_productAB)"
   ]
  },
  {
   "cell_type": "code",
   "execution_count": 24,
   "metadata": {},
   "outputs": [
    {
     "name": "stdout",
     "output_type": "stream",
     "text": [
      "[1, 2, 3, 4, 5, 6, 7, 8, 9, 10, 11, 12]\n",
      "[20, 21, 22, 23, 24, 25, 26, 27, 28, 29, 30, 31]\n",
      "[[[-19  38 -19]\n",
      "  [-19  38 -19]]\n",
      "\n",
      " [[-19  38 -19]\n",
      "  [-19  38 -19]]]\n"
     ]
    }
   ],
   "source": [
    "# vectors\n",
    "# 3i + 4j\n",
    "# 4i + 7j\n",
    "import numpy as np\n",
    "from numpy import linalg as la\n",
    "A = list(range(1,13))\n",
    "B = list(range(20,32))\n",
    "\n",
    "print(A)\n",
    "print(B)\n",
    "# A_vector = np.array(np.arange(12)).reshape(2,2,3)\n",
    "# B_vector = np.array(np.arange(12)).reshape(2,2,3)\n",
    "\n",
    "\n",
    "A_vector = np.array(A).reshape(2,2,3)\n",
    "B_vector = np.array(B).reshape(2,2,3)\n",
    "cross_productAB= la.cross(A_vector,B_vector)\n",
    "\n",
    "print(cross_productAB)"
   ]
  },
  {
   "cell_type": "code",
   "execution_count": 29,
   "metadata": {},
   "outputs": [
    {
     "name": "stdout",
     "output_type": "stream",
     "text": [
      "[ 1.61168440e+01 -1.11684397e+00 -1.30367773e-15]\n",
      "[[-0.23197069 -0.78583024  0.40824829]\n",
      " [-0.52532209 -0.08675134 -0.81649658]\n",
      " [-0.8186735   0.61232756  0.40824829]]\n"
     ]
    }
   ],
   "source": [
    "import numpy as np\n",
    "from numpy import linalg as la\n",
    "A = list(range(1,10))\n",
    "B = list(range(20,29))\n",
    "\n",
    "# print(A)\n",
    "# print(B)\n",
    "# A_vector = np.array(np.arange(12)).reshape(2,2,3)\n",
    "# B_vector = np.array(np.arange(12)).reshape(2,2,3)\n",
    "\n",
    "A_vector = np.array(A).reshape(3,3)\n",
    "B_vector = np.array(B).reshape(3,3)\n",
    "egvl, Egv= la.eig(A_vector)\n",
    "\n",
    "print(egvl)\n",
    "print(Egv)"
   ]
  },
  {
   "cell_type": "code",
   "execution_count": 30,
   "metadata": {},
   "outputs": [
    {
     "name": "stdout",
     "output_type": "stream",
     "text": [
      "6.164414002968976\n"
     ]
    }
   ],
   "source": [
    "import numpy as np\n",
    "from numpy import linalg as la\n",
    "A_vector = np.array([2,3,5])\n",
    "A_norm =la.norm(A_vector)\n",
    "print(A_norm)"
   ]
  },
  {
   "cell_type": "code",
   "execution_count": 34,
   "metadata": {},
   "outputs": [
    {
     "name": "stdout",
     "output_type": "stream",
     "text": [
      "[np.float64(0.3244428422615251), np.float64(0.48666426339228763), np.float64(0.8111071056538127)]\n",
      "0.3244428422615251\n"
     ]
    }
   ],
   "source": [
    "Unit_Vector =[]\n",
    "for i in A_vector :\n",
    "    unit = i / A_norm\n",
    "    Unit_Vector.append(unit)\n",
    "\n",
    "print(Unit_Vector)\n",
    "i,j,k= Unit_Vector\n",
    "print(i)"
   ]
  },
  {
   "cell_type": "code",
   "execution_count": null,
   "metadata": {},
   "outputs": [],
   "source": []
  }
 ],
 "metadata": {
  "kernelspec": {
   "display_name": "Python 3",
   "language": "python",
   "name": "python3"
  },
  "language_info": {
   "codemirror_mode": {
    "name": "ipython",
    "version": 3
   },
   "file_extension": ".py",
   "mimetype": "text/x-python",
   "name": "python",
   "nbconvert_exporter": "python",
   "pygments_lexer": "ipython3",
   "version": "3.12.1"
  }
 },
 "nbformat": 4,
 "nbformat_minor": 2
}
